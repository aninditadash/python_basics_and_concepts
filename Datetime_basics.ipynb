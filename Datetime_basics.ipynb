{
 "cells": [
  {
   "cell_type": "code",
   "execution_count": 1,
   "id": "0d85be12-2fb6-458e-88c4-b46849299a2d",
   "metadata": {},
   "outputs": [],
   "source": [
    "import datetime as dt\n",
    "import time as tm"
   ]
  },
  {
   "cell_type": "code",
   "execution_count": 8,
   "id": "7f8778ed-e376-4ec9-95dc-2d6a4f9aa9a9",
   "metadata": {},
   "outputs": [
    {
     "data": {
      "text/plain": [
       "1746166229.258034"
      ]
     },
     "execution_count": 8,
     "metadata": {},
     "output_type": "execute_result"
    }
   ],
   "source": [
    "tm.time()"
   ]
  },
  {
   "cell_type": "code",
   "execution_count": 14,
   "id": "6ca87c1d-1adf-4574-8e3c-3baddfc8d261",
   "metadata": {},
   "outputs": [
    {
     "data": {
      "text/plain": [
       "datetime.datetime(2025, 5, 2, 11, 42, 2, 648294)"
      ]
     },
     "execution_count": 14,
     "metadata": {},
     "output_type": "execute_result"
    }
   ],
   "source": [
    "today_date = dt.datetime.now()\n",
    "today_date"
   ]
  },
  {
   "cell_type": "code",
   "execution_count": 15,
   "id": "a6120233-8d76-40bb-93d1-18dbd900a8b7",
   "metadata": {},
   "outputs": [
    {
     "data": {
      "text/plain": [
       "datetime.datetime(2025, 5, 2, 11, 42, 3, 525728)"
      ]
     },
     "execution_count": 15,
     "metadata": {},
     "output_type": "execute_result"
    }
   ],
   "source": [
    "today_date_tm = dt.datetime.fromtimestamp(tm.time())\n",
    "today_date_tm"
   ]
  },
  {
   "cell_type": "code",
   "execution_count": 16,
   "id": "c157934c-2f4d-4b23-98f4-146435b80000",
   "metadata": {},
   "outputs": [
    {
     "data": {
      "text/plain": [
       "(2025, 5, 2, 11, 42, 2)"
      ]
     },
     "execution_count": 16,
     "metadata": {},
     "output_type": "execute_result"
    }
   ],
   "source": [
    "today_date.year, today_date.month, today_date.day, today_date.hour, today_date.minute, today_date.second "
   ]
  },
  {
   "cell_type": "code",
   "execution_count": 17,
   "id": "4d4cc4e6-0619-4907-a97f-d25603a08c41",
   "metadata": {},
   "outputs": [
    {
     "data": {
      "text/plain": [
       "(2025, 5, 2, 11, 42, 3)"
      ]
     },
     "execution_count": 17,
     "metadata": {},
     "output_type": "execute_result"
    }
   ],
   "source": [
    "today_date_tm.year, today_date_tm.month, today_date_tm.day, today_date_tm.hour, today_date_tm.minute, today_date_tm.second "
   ]
  },
  {
   "cell_type": "code",
   "execution_count": 20,
   "id": "ae337c5e-5643-4976-810c-37d570e510c4",
   "metadata": {},
   "outputs": [
    {
     "data": {
      "text/plain": [
       "datetime.timedelta(days=100)"
      ]
     },
     "execution_count": 20,
     "metadata": {},
     "output_type": "execute_result"
    }
   ],
   "source": [
    "# Time delta\n",
    "\n",
    "delta_100 = dt.timedelta(days = 100)\n",
    "delta_100"
   ]
  },
  {
   "cell_type": "code",
   "execution_count": 19,
   "id": "a2fab083-1b43-4f02-b3f9-0e5675dfc542",
   "metadata": {},
   "outputs": [
    {
     "data": {
      "text/plain": [
       "datetime.date(2025, 5, 2)"
      ]
     },
     "execution_count": 19,
     "metadata": {},
     "output_type": "execute_result"
    }
   ],
   "source": [
    "# Today date\n",
    "\n",
    "today = dt.date.today()\n",
    "today"
   ]
  },
  {
   "cell_type": "code",
   "execution_count": 22,
   "id": "b8698339-e830-4347-9448-b05ab57e4ca6",
   "metadata": {},
   "outputs": [
    {
     "data": {
      "text/plain": [
       "datetime.date(2025, 1, 22)"
      ]
     },
     "execution_count": 22,
     "metadata": {},
     "output_type": "execute_result"
    }
   ],
   "source": [
    "# Today date - 100 days using time delta\n",
    "\n",
    "today_100 = today - delta_100\n",
    "today_100"
   ]
  },
  {
   "cell_type": "code",
   "execution_count": 23,
   "id": "487d881d-fbd6-475b-ae32-acec3280de24",
   "metadata": {},
   "outputs": [
    {
     "data": {
      "text/plain": [
       "True"
      ]
     },
     "execution_count": 23,
     "metadata": {},
     "output_type": "execute_result"
    }
   ],
   "source": [
    "today > today_100"
   ]
  },
  {
   "cell_type": "code",
   "execution_count": null,
   "id": "b44cc686-35ab-4884-b5f4-f17d6fce2aca",
   "metadata": {},
   "outputs": [],
   "source": []
  }
 ],
 "metadata": {
  "kernelspec": {
   "display_name": "Python 3 (ipykernel)",
   "language": "python",
   "name": "python3"
  },
  "language_info": {
   "codemirror_mode": {
    "name": "ipython",
    "version": 3
   },
   "file_extension": ".py",
   "mimetype": "text/x-python",
   "name": "python",
   "nbconvert_exporter": "python",
   "pygments_lexer": "ipython3",
   "version": "3.12.10"
  }
 },
 "nbformat": 4,
 "nbformat_minor": 5
}
