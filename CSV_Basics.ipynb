{
 "cells": [
  {
   "cell_type": "code",
   "execution_count": 1,
   "id": "af82edac-02a5-4a35-9f4a-cc2b41ff72bc",
   "metadata": {},
   "outputs": [],
   "source": [
    "import csv"
   ]
  },
  {
   "cell_type": "code",
   "execution_count": 13,
   "id": "814f4207-bf64-449b-80db-c3e73171b6f3",
   "metadata": {},
   "outputs": [],
   "source": [
    "with open('datasets/mpg.csv') as csvfile:\n",
    "    mpg = list(csv.DictReader(csvfile))"
   ]
  },
  {
   "cell_type": "markdown",
   "id": "81348143-cf70-4a77-8c4f-fd9360d2a931",
   "metadata": {},
   "source": [
    "### __Print the first three rows of the csv file__"
   ]
  },
  {
   "cell_type": "code",
   "execution_count": 14,
   "id": "c2a5d447-ad27-447f-be62-7757a371c069",
   "metadata": {},
   "outputs": [
    {
     "data": {
      "text/plain": [
       "[{'': '1',\n",
       "  'manufacturer': 'audi',\n",
       "  'model': 'a4',\n",
       "  'displ': '1.8',\n",
       "  'year': '1999',\n",
       "  'cyl': '4',\n",
       "  'trans': 'auto(l5)',\n",
       "  'drv': 'f',\n",
       "  'cty': '18',\n",
       "  'hwy': '29',\n",
       "  'fl': 'p',\n",
       "  'class': 'compact'},\n",
       " {'': '2',\n",
       "  'manufacturer': 'audi',\n",
       "  'model': 'a4',\n",
       "  'displ': '1.8',\n",
       "  'year': '1999',\n",
       "  'cyl': '4',\n",
       "  'trans': 'manual(m5)',\n",
       "  'drv': 'f',\n",
       "  'cty': '21',\n",
       "  'hwy': '29',\n",
       "  'fl': 'p',\n",
       "  'class': 'compact'},\n",
       " {'': '3',\n",
       "  'manufacturer': 'audi',\n",
       "  'model': 'a4',\n",
       "  'displ': '2',\n",
       "  'year': '2008',\n",
       "  'cyl': '4',\n",
       "  'trans': 'manual(m6)',\n",
       "  'drv': 'f',\n",
       "  'cty': '20',\n",
       "  'hwy': '31',\n",
       "  'fl': 'p',\n",
       "  'class': 'compact'}]"
      ]
     },
     "execution_count": 14,
     "metadata": {},
     "output_type": "execute_result"
    }
   ],
   "source": [
    "mpg[:3]"
   ]
  },
  {
   "cell_type": "markdown",
   "id": "18a92264-e1a7-4a57-acfc-fdbc4469edbb",
   "metadata": {},
   "source": [
    "### __Print the length of the contents of the csv__"
   ]
  },
  {
   "cell_type": "code",
   "execution_count": 15,
   "id": "b6c2db7a-8624-4571-9919-a86dac4273f4",
   "metadata": {},
   "outputs": [
    {
     "data": {
      "text/plain": [
       "234"
      ]
     },
     "execution_count": 15,
     "metadata": {},
     "output_type": "execute_result"
    }
   ],
   "source": [
    "len(mpg)"
   ]
  },
  {
   "cell_type": "markdown",
   "id": "5606072e-a0bb-47b7-a024-472d0b26fcfd",
   "metadata": {},
   "source": [
    "### __Print the column names in the CSV file__"
   ]
  },
  {
   "cell_type": "code",
   "execution_count": 16,
   "id": "e4340027-32bd-43ec-b2b3-43fdbf4c667e",
   "metadata": {},
   "outputs": [
    {
     "data": {
      "text/plain": [
       "dict_keys(['', 'manufacturer', 'model', 'displ', 'year', 'cyl', 'trans', 'drv', 'cty', 'hwy', 'fl', 'class'])"
      ]
     },
     "execution_count": 16,
     "metadata": {},
     "output_type": "execute_result"
    }
   ],
   "source": [
    "mpg[0].keys()"
   ]
  },
  {
   "cell_type": "markdown",
   "id": "786a25d1-9acb-4d11-9c9d-037e8188440c",
   "metadata": {},
   "source": [
    "### __Print the average `city mpg` and `highway mpg` (Miles per Gallon or fuel economy) across all the cars__\n",
    "\n",
    "- Since, all the items are in string format, we are converting them into float and then performing addition."
   ]
  },
  {
   "cell_type": "code",
   "execution_count": 17,
   "id": "c24e5a83-9cd2-4210-b2bb-9aff981f585d",
   "metadata": {},
   "outputs": [
    {
     "data": {
      "text/plain": [
       "16.858974358974358"
      ]
     },
     "execution_count": 17,
     "metadata": {},
     "output_type": "execute_result"
    }
   ],
   "source": [
    "avg_city_mpg = sum(float(item['cty']) for item in mpg) / len(mpg)\n",
    "avg_city_mpg"
   ]
  },
  {
   "cell_type": "code",
   "execution_count": 18,
   "id": "4b3840b4-5efe-439a-9cc1-723122e1fdf2",
   "metadata": {},
   "outputs": [
    {
     "data": {
      "text/plain": [
       "23.44017094017094"
      ]
     },
     "execution_count": 18,
     "metadata": {},
     "output_type": "execute_result"
    }
   ],
   "source": [
    "avg_highway_mpg = sum(float(item['hwy']) for item in mpg) / len(mpg)\n",
    "avg_highway_mpg"
   ]
  },
  {
   "cell_type": "markdown",
   "id": "25900af9-5472-4fa5-8589-1309ea215b49",
   "metadata": {},
   "source": [
    "##### __Observation:__\n",
    "\n",
    "- The average city fuel economy is less than highway fuel economy."
   ]
  },
  {
   "cell_type": "markdown",
   "id": "b797eb4a-6d6f-4375-bb29-95b5f1df3fff",
   "metadata": {},
   "source": [
    "### __Print the different quantities of cylinders used in the cars__"
   ]
  },
  {
   "cell_type": "code",
   "execution_count": 19,
   "id": "14239ae7-b83f-4b3a-a3fd-ada11abbdbdf",
   "metadata": {},
   "outputs": [
    {
     "data": {
      "text/plain": [
       "{'4', '5', '6', '8'}"
      ]
     },
     "execution_count": 19,
     "metadata": {},
     "output_type": "execute_result"
    }
   ],
   "source": [
    "cylinders = set(item['cyl'] for item in mpg)\n",
    "cylinders"
   ]
  },
  {
   "cell_type": "markdown",
   "id": "029403f2-4f03-4b0a-8f46-aee435e71cbe",
   "metadata": {},
   "source": [
    "### __Find the average city MPG grouped by the no. of cylinders for a car__"
   ]
  },
  {
   "cell_type": "code",
   "execution_count": 29,
   "id": "caa8fe85-4a15-4c1a-abfc-28f85beac759",
   "metadata": {},
   "outputs": [
    {
     "data": {
      "text/plain": [
       "[('5', 20.5),\n",
       " ('6', 16.21518987341772),\n",
       " ('4', 21.012345679012345),\n",
       " ('8', 12.571428571428571)]"
      ]
     },
     "execution_count": 29,
     "metadata": {},
     "output_type": "execute_result"
    }
   ],
   "source": [
    "ctyMpgByCyl = []\n",
    "\n",
    "for c in cylinders:      # Iterate over cylinders\n",
    "    sum_city_mpg = 0\n",
    "    cyl_typecount = 0\n",
    "    for item in mpg:\n",
    "        if item['cyl'] == c:\n",
    "            sum_city_mpg += float(item['cty'])\n",
    "            cyl_typecount += 1\n",
    "    ctyMpgByCyl.append((c, sum_city_mpg / cyl_typecount))    # Append the tuple ('cylinder', 'avg mpg')\n",
    "\n",
    "ctyMpgByCyl"
   ]
  },
  {
   "cell_type": "markdown",
   "id": "8ea245e7-7a21-40a4-bd7e-66e1e84cfafb",
   "metadata": {},
   "source": [
    "#### __Sorting the cylinders by average city MPG list by the cylinder value__"
   ]
  },
  {
   "cell_type": "code",
   "execution_count": 30,
   "id": "550d918f-530f-459f-b26b-1c2eb4914745",
   "metadata": {},
   "outputs": [
    {
     "data": {
      "text/plain": [
       "[('4', 21.012345679012345),\n",
       " ('5', 20.5),\n",
       " ('6', 16.21518987341772),\n",
       " ('8', 12.571428571428571)]"
      ]
     },
     "execution_count": 30,
     "metadata": {},
     "output_type": "execute_result"
    }
   ],
   "source": [
    "ctyMpgByCyl.sort(key = lambda x: x[0])\n",
    "ctyMpgByCyl"
   ]
  },
  {
   "cell_type": "markdown",
   "id": "eed6622a-a75e-4015-b4cb-a7bda1837114",
   "metadata": {},
   "source": [
    "### __Find the different vehicle classes__"
   ]
  },
  {
   "cell_type": "code",
   "execution_count": 31,
   "id": "9c286e12-450d-4ff1-952d-3c4baca42916",
   "metadata": {},
   "outputs": [
    {
     "data": {
      "text/plain": [
       "{'2seater', 'compact', 'midsize', 'minivan', 'pickup', 'subcompact', 'suv'}"
      ]
     },
     "execution_count": 31,
     "metadata": {},
     "output_type": "execute_result"
    }
   ],
   "source": [
    "vehicle_classes = set(item['class'] for item in mpg)\n",
    "vehicle_classes"
   ]
  },
  {
   "cell_type": "markdown",
   "id": "399974ff-0f1c-4fda-81dd-01d9e53632ab",
   "metadata": {},
   "source": [
    "### __Find average highway MPG for different vehicle classes__"
   ]
  },
  {
   "cell_type": "code",
   "execution_count": 32,
   "id": "aa4933fd-161b-45b5-b803-ecc129911e20",
   "metadata": {},
   "outputs": [
    {
     "data": {
      "text/plain": [
       "[('midsize', 27.29268292682927),\n",
       " ('2seater', 24.8),\n",
       " ('minivan', 22.363636363636363),\n",
       " ('subcompact', 28.142857142857142),\n",
       " ('suv', 18.129032258064516),\n",
       " ('pickup', 16.87878787878788),\n",
       " ('compact', 28.29787234042553)]"
      ]
     },
     "execution_count": 32,
     "metadata": {},
     "output_type": "execute_result"
    }
   ],
   "source": [
    "hwyMpgByClass = []\n",
    "\n",
    "for v_class in vehicle_classes:     # Iterate over vehicle classes\n",
    "    sum_highway_mpg = 0\n",
    "    vehicl_class_typecount = 0\n",
    "    for item in mpg:\n",
    "        if item['class'] == v_class:\n",
    "            sum_highway_mpg += float(item['hwy'])\n",
    "            vehicl_class_typecount += 1\n",
    "    hwyMpgByClass.append((v_class, sum_highway_mpg / vehicl_class_typecount))     # Append the tuple ('class', 'avg mpg')\n",
    "\n",
    "hwyMpgByClass"
   ]
  },
  {
   "cell_type": "markdown",
   "id": "b63970a6-70d0-434b-9ae2-c7bef7b39d40",
   "metadata": {},
   "source": [
    "#### __Sorting the vehicle class by average highway MPG list by avg. highway MPG__"
   ]
  },
  {
   "cell_type": "code",
   "execution_count": 34,
   "id": "6b5726c8-a1dd-4b45-815b-7f5430f6a3ff",
   "metadata": {},
   "outputs": [
    {
     "data": {
      "text/plain": [
       "[('pickup', 16.87878787878788),\n",
       " ('suv', 18.129032258064516),\n",
       " ('minivan', 22.363636363636363),\n",
       " ('2seater', 24.8),\n",
       " ('midsize', 27.29268292682927),\n",
       " ('subcompact', 28.142857142857142),\n",
       " ('compact', 28.29787234042553)]"
      ]
     },
     "execution_count": 34,
     "metadata": {},
     "output_type": "execute_result"
    }
   ],
   "source": [
    "hwyMpgByClass.sort(key = lambda x: x[1])\n",
    "hwyMpgByClass"
   ]
  },
  {
   "cell_type": "code",
   "execution_count": null,
   "id": "7ad16a5e-72af-41f7-9edb-d3ddfdc0b1c3",
   "metadata": {},
   "outputs": [],
   "source": []
  }
 ],
 "metadata": {
  "kernelspec": {
   "display_name": "Python 3 (ipykernel)",
   "language": "python",
   "name": "python3"
  },
  "language_info": {
   "codemirror_mode": {
    "name": "ipython",
    "version": 3
   },
   "file_extension": ".py",
   "mimetype": "text/x-python",
   "name": "python",
   "nbconvert_exporter": "python",
   "pygments_lexer": "ipython3",
   "version": "3.12.10"
  }
 },
 "nbformat": 4,
 "nbformat_minor": 5
}
