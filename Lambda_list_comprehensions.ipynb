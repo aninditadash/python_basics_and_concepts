{
 "cells": [
  {
   "cell_type": "markdown",
   "id": "63957d09-0bb2-4d01-b295-37b427b8a660",
   "metadata": {},
   "source": [
    "### __Lambda expressions__"
   ]
  },
  {
   "cell_type": "markdown",
   "id": "1e66ca8f-93e0-4a73-8dfc-b86a12d8f2bf",
   "metadata": {},
   "source": [
    "__Lambda's__ are Python's way of creating anonymous functions. \n",
    "\n",
    "- These are the same as other functions, but they have no name.\n",
    "- The intent is that they're simple or short lived and it's easier just to write out the function in one line instead of going to the trouble of creating a named function.\n",
    "- There's only one expression to be evaluated in a lambda.\n",
    "- The expression value is returned on execution of the lambda.\n",
    "- The return of a lambda is a function reference.\n",
    "- We can't have default values for lambda parameters and it cannot contain complex logic inside of the lambda itself because you're limited to a single expression."
   ]
  },
  {
   "cell_type": "code",
   "execution_count": 1,
   "id": "52e6177e-553d-45af-9a9a-b23a0068a6cf",
   "metadata": {},
   "outputs": [],
   "source": [
    "my_function = lambda a, b, c: a + b"
   ]
  },
  {
   "cell_type": "code",
   "execution_count": 2,
   "id": "0a51122a-3a20-41c7-be42-526984ac608e",
   "metadata": {},
   "outputs": [
    {
     "data": {
      "text/plain": [
       "3"
      ]
     },
     "execution_count": 2,
     "metadata": {},
     "output_type": "execute_result"
    }
   ],
   "source": [
    "my_function(1, 2, 3)"
   ]
  },
  {
   "cell_type": "markdown",
   "id": "a7b05020-931e-43bd-9aec-9e264b99942b",
   "metadata": {},
   "source": [
    "#### __Convert the below function `split_title_and_name` into a lambda function expression__"
   ]
  },
  {
   "cell_type": "code",
   "execution_count": 10,
   "id": "66ec8a7f-17d2-43b9-a94e-46c54cbd1743",
   "metadata": {},
   "outputs": [],
   "source": [
    "people = ['Dr. Christopher Brooks', 'Dr. Kevyn Collins-Thompson', 'Dr. VG Vinod Vydiswaran', 'Dr. Daniel Romero']\n",
    "\n",
    "def split_title_and_name(person):\n",
    "    return person.split()[0] + ' ' + person.split()[-1]\n",
    "\n",
    "split_title_and_name_func = lambda person: person.split()[0] + ' ' + person.split()[-1]"
   ]
  },
  {
   "cell_type": "code",
   "execution_count": 11,
   "id": "79e8f8aa-41ec-4b7c-997c-ef38d1c552eb",
   "metadata": {},
   "outputs": [
    {
     "data": {
      "text/plain": [
       "'Dr. Brooks'"
      ]
     },
     "execution_count": 11,
     "metadata": {},
     "output_type": "execute_result"
    }
   ],
   "source": [
    "split_title_and_name(people[0])"
   ]
  },
  {
   "cell_type": "code",
   "execution_count": 12,
   "id": "d4356805-53ad-423d-a4de-da6be93adf68",
   "metadata": {},
   "outputs": [
    {
     "data": {
      "text/plain": [
       "'Dr. Brooks'"
      ]
     },
     "execution_count": 12,
     "metadata": {},
     "output_type": "execute_result"
    }
   ],
   "source": [
    "split_title_and_name_func(people[0])"
   ]
  },
  {
   "cell_type": "code",
   "execution_count": 13,
   "id": "714376aa-532d-47f6-aaac-647cf776da67",
   "metadata": {},
   "outputs": [
    {
     "name": "stdout",
     "output_type": "stream",
     "text": [
      "True\n",
      "True\n",
      "True\n",
      "True\n"
     ]
    }
   ],
   "source": [
    "# Option 1\n",
    "for person in people:\n",
    "    print(split_title_and_name(person) == split_title_and_name_func(person))"
   ]
  },
  {
   "cell_type": "code",
   "execution_count": 4,
   "id": "ae29bb5a-4bad-40da-a6ee-22207c1c55aa",
   "metadata": {},
   "outputs": [
    {
     "data": {
      "text/plain": [
       "['Dr. Brooks', 'Dr. Collins-Thompson', 'Dr. Vydiswaran', 'Dr. Romero']"
      ]
     },
     "execution_count": 4,
     "metadata": {},
     "output_type": "execute_result"
    }
   ],
   "source": [
    "list(map(split_title_and_name, people))"
   ]
  },
  {
   "cell_type": "code",
   "execution_count": 14,
   "id": "b28c66ad-6fa5-4d37-92e1-99fb83b4bf3b",
   "metadata": {},
   "outputs": [
    {
     "data": {
      "text/plain": [
       "['Dr. Brooks', 'Dr. Collins-Thompson', 'Dr. Vydiswaran', 'Dr. Romero']"
      ]
     },
     "execution_count": 14,
     "metadata": {},
     "output_type": "execute_result"
    }
   ],
   "source": [
    "list(map(split_title_and_name_func, people))"
   ]
  },
  {
   "cell_type": "code",
   "execution_count": 16,
   "id": "c7fd43cf-c764-413a-ad17-bfe96eee7a2c",
   "metadata": {},
   "outputs": [
    {
     "data": {
      "text/plain": [
       "True"
      ]
     },
     "execution_count": 16,
     "metadata": {},
     "output_type": "execute_result"
    }
   ],
   "source": [
    "# Option 2\n",
    "list(map(split_title_and_name, people)) == list(map(split_title_and_name_func, people))"
   ]
  },
  {
   "cell_type": "code",
   "execution_count": 17,
   "id": "d6a16bfe-f5c3-4a0a-bdc1-b93da445d296",
   "metadata": {},
   "outputs": [
    {
     "name": "stdout",
     "output_type": "stream",
     "text": [
      "True\n",
      "True\n",
      "True\n",
      "True\n"
     ]
    },
    {
     "data": {
      "text/plain": [
       "True"
      ]
     },
     "execution_count": 17,
     "metadata": {},
     "output_type": "execute_result"
    }
   ],
   "source": [
    "# Another approach\n",
    "\n",
    "people = ['Dr. Christopher Brooks', 'Dr. Kevyn Collins-Thompson', 'Dr. VG Vinod Vydiswaran', 'Dr. Daniel Romero']\n",
    "\n",
    "def split_title_and_name(person):\n",
    "    return person.split()[0] + ' ' + person.split()[-1]\n",
    "\n",
    "# Option 1\n",
    "for person in people:\n",
    "    print(split_title_and_name(person) == (lambda x: x.split()[0] + ' ' + x.split()[-1])(person))\n",
    "\n",
    "# Option 2\n",
    "list(map(split_title_and_name, people)) == list(map(lambda person: person.split()[0] + ' ' + person.split()[-1], people))"
   ]
  },
  {
   "cell_type": "markdown",
   "id": "e3e04099-1a62-4765-a630-e377f32c88eb",
   "metadata": {},
   "source": [
    "### __List comprehensions__"
   ]
  },
  {
   "cell_type": "code",
   "execution_count": 18,
   "id": "c7365402-bfcc-436f-ac36-0c67389951c7",
   "metadata": {},
   "outputs": [
    {
     "data": {
      "text/plain": [
       "[0, 2, 4, 6, 8]"
      ]
     },
     "execution_count": 18,
     "metadata": {},
     "output_type": "execute_result"
    }
   ],
   "source": [
    "my_list = []\n",
    "\n",
    "for num in range(0, 1000):\n",
    "    if num % 2 == 0:\n",
    "        my_list.append(num)\n",
    "\n",
    "my_list[:5]"
   ]
  },
  {
   "cell_type": "code",
   "execution_count": 19,
   "id": "9c2f9ab1-c83c-4200-87d5-92928b740ffd",
   "metadata": {},
   "outputs": [
    {
     "data": {
      "text/plain": [
       "[0, 2, 4, 6, 8]"
      ]
     },
     "execution_count": 19,
     "metadata": {},
     "output_type": "execute_result"
    }
   ],
   "source": [
    "# Using list comprehension\n",
    "\n",
    "my_list_comp = [num for num in range(0, 1000) if num % 2 == 0]\n",
    "my_list_comp[:5]"
   ]
  },
  {
   "cell_type": "markdown",
   "id": "fed4c61d-787f-4dca-9c79-0e06b4e34206",
   "metadata": {},
   "source": [
    "#### __Convert the below function into a list comprehension.__"
   ]
  },
  {
   "cell_type": "code",
   "execution_count": 20,
   "id": "3db279fe-f835-40bf-aaa5-94bc99098f71",
   "metadata": {},
   "outputs": [],
   "source": [
    "def times_tables():\n",
    "    lst = []\n",
    "    for i in range(10):\n",
    "        for j in range (10):\n",
    "            lst.append(i*j)\n",
    "    return lst"
   ]
  },
  {
   "cell_type": "code",
   "execution_count": 25,
   "id": "e59aa763-bca2-4fcc-b700-b7f1319c6345",
   "metadata": {},
   "outputs": [
    {
     "data": {
      "text/plain": [
       "[0, 0, 0, 0, 0, 0, 0, 0, 0, 0, 0, 1, 2, 3, 4]"
      ]
     },
     "execution_count": 25,
     "metadata": {},
     "output_type": "execute_result"
    }
   ],
   "source": [
    "times_tables()[:15]"
   ]
  },
  {
   "cell_type": "code",
   "execution_count": 27,
   "id": "4dfe9d09-76d0-495a-a192-b611d8c3f84e",
   "metadata": {},
   "outputs": [
    {
     "data": {
      "text/plain": [
       "[0, 0, 0, 0, 0, 0, 0, 0, 0, 0, 0, 1, 2, 3, 4]"
      ]
     },
     "execution_count": 27,
     "metadata": {},
     "output_type": "execute_result"
    }
   ],
   "source": [
    "times_tables_list_comp = [i*j for i in range(10) for j in range(10)]\n",
    "times_tables_list_comp[:15]"
   ]
  },
  {
   "cell_type": "markdown",
   "id": "f6fc353b-4b28-4820-a547-958f10fbefd8",
   "metadata": {},
   "source": [
    "#### __Find list of possible user ids using list comprehensions__\n",
    "\n",
    "Many organizations have user ids which are constrained in some way. Imagine you work at an internet service provider and the user ids are all two letters followed by two numbers (e.g. aa49). Your task at such an organization might be to hold a record on the billing activity for each possible user.\n",
    "Write an initialization line as a single list comprehension which creates a list of all possible user ids. Assume the letters are all lower case.\n"
   ]
  },
  {
   "cell_type": "code",
   "execution_count": 60,
   "id": "0f4b04e6-f6e3-4639-bd5d-521d3aa42130",
   "metadata": {},
   "outputs": [],
   "source": [
    "lowercase = 'abcdefghijklmnopqrstuvwxyz'\n",
    "digits = '0123456789'"
   ]
  },
  {
   "cell_type": "code",
   "execution_count": 61,
   "id": "5f4c36c7-79bc-4e87-b057-7ca356411685",
   "metadata": {},
   "outputs": [
    {
     "data": {
      "text/plain": [
       "['aa00', 'aa01', 'aa02', 'aa03', 'aa04']"
      ]
     },
     "execution_count": 61,
     "metadata": {},
     "output_type": "execute_result"
    }
   ],
   "source": [
    "# Using for loop\n",
    "\n",
    "user_ds_list = []\n",
    "\n",
    "for first_char in lowercase:\n",
    "   for second_char in lowercase:\n",
    "        for higher_digit in digits:\n",
    "            for lower_digit in digits:\n",
    "                user_ds_list.append(''.join([first_char, second_char, higher_digit, lower_digit]))\n",
    "\n",
    "\n",
    "user_ds_list[:5]"
   ]
  },
  {
   "cell_type": "code",
   "execution_count": 62,
   "id": "a477a079-3506-41b6-96cb-914313039b3a",
   "metadata": {},
   "outputs": [
    {
     "data": {
      "text/plain": [
       "67600"
      ]
     },
     "execution_count": 62,
     "metadata": {},
     "output_type": "execute_result"
    }
   ],
   "source": [
    "len(user_ds_list)"
   ]
  },
  {
   "cell_type": "code",
   "execution_count": 63,
   "id": "2838f787-48e4-45a0-8fec-6d13093dff2c",
   "metadata": {},
   "outputs": [
    {
     "data": {
      "text/plain": [
       "['aa00', 'aa01', 'aa02', 'aa03', 'aa04']"
      ]
     },
     "execution_count": 63,
     "metadata": {},
     "output_type": "execute_result"
    }
   ],
   "source": [
    "# Using list comprehension\n",
    "\n",
    "user_ds_list_comp = [''.join([first_char, second_char, higher_digit, lower_digit]) for first_char in lowercase for second_char in lowercase for higher_digit in digits for lower_digit in digits]\n",
    "\n",
    "user_ds_list_comp[:5]"
   ]
  },
  {
   "cell_type": "code",
   "execution_count": 64,
   "id": "0eb2c439-ccae-44f8-b141-e21d0df89b0b",
   "metadata": {},
   "outputs": [
    {
     "data": {
      "text/plain": [
       "67600"
      ]
     },
     "execution_count": 64,
     "metadata": {},
     "output_type": "execute_result"
    }
   ],
   "source": [
    "len(user_ds_list_comp)"
   ]
  },
  {
   "cell_type": "code",
   "execution_count": 66,
   "id": "51d11f2e-78d5-4cd8-be1b-0ff20c2d0d46",
   "metadata": {},
   "outputs": [
    {
     "data": {
      "text/plain": [
       "['aa00', 'aa01', 'aa02', 'aa03', 'aa04']"
      ]
     },
     "execution_count": 66,
     "metadata": {},
     "output_type": "execute_result"
    }
   ],
   "source": [
    "# Another approach\n",
    "\n",
    "correct_answer = [a+b+c+d for a in lowercase for b in lowercase for c in digits for d in digits]\n",
    "\n",
    "correct_answer[:5]"
   ]
  },
  {
   "cell_type": "code",
   "execution_count": null,
   "id": "f209bf2d-b092-4a3c-a672-4b9951d2c46e",
   "metadata": {},
   "outputs": [],
   "source": []
  }
 ],
 "metadata": {
  "kernelspec": {
   "display_name": "Python 3 (ipykernel)",
   "language": "python",
   "name": "python3"
  },
  "language_info": {
   "codemirror_mode": {
    "name": "ipython",
    "version": 3
   },
   "file_extension": ".py",
   "mimetype": "text/x-python",
   "name": "python",
   "nbconvert_exporter": "python",
   "pygments_lexer": "ipython3",
   "version": "3.12.10"
  }
 },
 "nbformat": 4,
 "nbformat_minor": 5
}
