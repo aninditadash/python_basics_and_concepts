{
 "cells": [
  {
   "cell_type": "code",
   "execution_count": 1,
   "id": "09b04e9e-4086-44c4-8761-b923fc7eae31",
   "metadata": {},
   "outputs": [],
   "source": [
    "class Person:\n",
    "    department = 'School of Information'\n",
    "\n",
    "    def set_name(self, new_name):\n",
    "        self.name = new_name\n",
    "    def set_location(self, new_location):\n",
    "        self.location = new_location"
   ]
  },
  {
   "cell_type": "markdown",
   "id": "5f7a795b-3cf8-4e74-a4d3-7eea347b2320",
   "metadata": {},
   "source": [
    "### __Implications of object-oriented programming in Python:__\n",
    "\n",
    "- Objects in Python do not have private or protected members.\n",
    "- If you instantiate an object, you have full access to any of the methods or attributes of that object.\n",
    "- There's no need for an explicit constructor when creating objects in Python. You can add a constructor if you want to by declaring the __init__ method."
   ]
  },
  {
   "cell_type": "markdown",
   "id": "0726422d-72e8-43d0-9023-827648da5e5a",
   "metadata": {},
   "source": [
    "The __map function__ is one of the basis for functional programming in Python. \n",
    "\n",
    "- Functional programming is a programming paradigm in which you explicitly declare all parameters which could change through execution of a given function.\n",
    "- Thus functional programming is referred to as being side-effect free, because there is a software contract that describes what can actually change by calling a function.\n",
    "- Python isn't a functional programming language in the pure sense, since you can have many side effects of functions, and certainly don't have to pass in the parameters of everything that you're interested in changing."
   ]
  },
  {
   "cell_type": "code",
   "execution_count": 2,
   "id": "5802085e-7545-4cde-8544-41b6ec6bc9d2",
   "metadata": {},
   "outputs": [
    {
     "name": "stdout",
     "output_type": "stream",
     "text": [
      "Anne Stark live in New York and works in the School of Information department.\n"
     ]
    }
   ],
   "source": [
    "person = Person()\n",
    "person.set_name('Anne Stark')\n",
    "person.set_location('New York')\n",
    "print('{} live in {} and works in the {} department.'.format(person.name, person.location, person.department))"
   ]
  },
  {
   "cell_type": "code",
   "execution_count": 4,
   "id": "1f2ad4c9-40cd-4eb7-8ac0-433d7e98195a",
   "metadata": {},
   "outputs": [],
   "source": [
    "# Prices of same items in stores 1 and 2\n",
    "\n",
    "store_1 = [10.00, 11.00, 12.34, 2.34]\n",
    "store_2 = [9.00, 11.10, 12.34, 2.01]"
   ]
  },
  {
   "cell_type": "markdown",
   "id": "cb6ce13b-bfd6-4ef0-a2f9-b9569828f24a",
   "metadata": {},
   "source": [
    "#### __Find minimum amount to pay if we bought cheaper item between the two stores__"
   ]
  },
  {
   "cell_type": "code",
   "execution_count": 5,
   "id": "08b34bd3-595d-47ad-9b72-a77ddd4d4e29",
   "metadata": {},
   "outputs": [
    {
     "data": {
      "text/plain": [
       "<map at 0x14beaeaa2c0>"
      ]
     },
     "execution_count": 5,
     "metadata": {},
     "output_type": "execute_result"
    }
   ],
   "source": [
    "cheapest = map(min, store_1, store_2)\n",
    "cheapest"
   ]
  },
  {
   "cell_type": "markdown",
   "id": "99aa9232-6d21-4f55-b730-326dcebaead4",
   "metadata": {},
   "source": [
    "##### __Observation:__\n",
    "\n",
    "- Above statement provides an odd reference to the map function value instead of a list of items we are expecting. This is called __lazy evaluation__.\n",
    "- In Python, the map function returns to you a map object.\n",
    "- It doesn't actually try and run the function min on two items, until you look inside for a value.\n",
    "- This is an interesting design pattern of the language, and it's commonly used when dealing with big data.\n",
    "- This allows us to have very efficient memory management, even though something might be computationally complex.\n",
    "- Maps are iterable, just like lists and tuples, so we can use a for loop to look at all of the values in the map.\n",
    "- This passing around of functions and data structures which they should be applied to, is a hallmark of functional programming."
   ]
  },
  {
   "cell_type": "code",
   "execution_count": 8,
   "id": "c1336079-ce5b-49b8-bafe-ea796de423af",
   "metadata": {},
   "outputs": [
    {
     "data": {
      "text/plain": [
       "[9.0, 11.0, 12.34, 2.01]"
      ]
     },
     "execution_count": 8,
     "metadata": {},
     "output_type": "execute_result"
    }
   ],
   "source": [
    "# Convert the map object to a list by passing the map object to the list constructor\n",
    "\n",
    "list(cheapest)"
   ]
  },
  {
   "cell_type": "markdown",
   "id": "057c5ab4-d1bf-43fb-bf6e-ea963b22389a",
   "metadata": {},
   "source": [
    "#### __Write a function and apply it using map() to get a list of all faculty titles and last names (e.g. ['Dr. Brooks', 'Dr. Collins-Thompson', …])__"
   ]
  },
  {
   "cell_type": "code",
   "execution_count": 27,
   "id": "233c1709-8040-46a2-bb5e-f3eb8a78d0a2",
   "metadata": {},
   "outputs": [
    {
     "data": {
      "text/plain": [
       "['Dr.Brooks', 'Dr.Collins-Thompson', 'Dr.Vydiswaran', 'Dr.Romero']"
      ]
     },
     "execution_count": 27,
     "metadata": {},
     "output_type": "execute_result"
    }
   ],
   "source": [
    "# Approach 1\n",
    "\n",
    "people = ['Dr. Christopher Brooks', 'Dr. Kevyn Collins-Thompson', 'Dr. VG Vinod Vydiswaran', 'Dr. Daniel Romero']\n",
    "\n",
    "def split_title_and_name(person):\n",
    "    return ''.join([person.split(' ')[0], person.split(' ')[-1]])\n",
    "\n",
    "list(map(split_title_and_name, people))"
   ]
  },
  {
   "cell_type": "code",
   "execution_count": 22,
   "id": "bcc2bb68-1b12-4ce0-98fb-0674e714e74a",
   "metadata": {},
   "outputs": [
    {
     "data": {
      "text/plain": [
       "'Dr.Brooks'"
      ]
     },
     "execution_count": 22,
     "metadata": {},
     "output_type": "execute_result"
    }
   ],
   "source": [
    "'Dr. Christopher Brooks'.split(' ')[0] + 'Dr. Christopher Brooks'.split(' ')[-1]"
   ]
  },
  {
   "cell_type": "code",
   "execution_count": null,
   "id": "536e75be-d89d-4d1b-9349-bd610ddf9e19",
   "metadata": {},
   "outputs": [],
   "source": [
    "'Dr. VG Vinod Vydiswaran'.split(' ')[0] + 'Dr. VG Vinod Vydiswaran'.split(' ')[-1]"
   ]
  },
  {
   "cell_type": "code",
   "execution_count": 26,
   "id": "81de3448-e6c7-49fd-b043-16a66c343868",
   "metadata": {},
   "outputs": [
    {
     "data": {
      "text/plain": [
       "['Dr. Brooks', 'Dr. Collins-Thompson', 'Dr. Vydiswaran', 'Dr. Romero']"
      ]
     },
     "execution_count": 26,
     "metadata": {},
     "output_type": "execute_result"
    }
   ],
   "source": [
    "# Approach 2\n",
    "\n",
    "people = ['Dr. Christopher Brooks', 'Dr. Kevyn Collins-Thompson', 'Dr. VG Vinod Vydiswaran', 'Dr. Daniel Romero']\n",
    "\n",
    "def split_title_and_name(person):\n",
    "    title = person.split()[0]\n",
    "    lastname = person.split()[-1]\n",
    "    return '{} {}'.format(title, lastname)\n",
    "\n",
    "list(map(split_title_and_name, people))"
   ]
  },
  {
   "cell_type": "code",
   "execution_count": null,
   "id": "4f62242d-52df-4de1-92a5-76406483d2fd",
   "metadata": {},
   "outputs": [],
   "source": []
  },
  {
   "cell_type": "code",
   "execution_count": null,
   "id": "d2f03063-66c4-43f5-9956-1f198a694208",
   "metadata": {},
   "outputs": [],
   "source": []
  },
  {
   "cell_type": "code",
   "execution_count": null,
   "id": "35c4ba60-3dda-4526-b0da-e9ea0d7a7a12",
   "metadata": {},
   "outputs": [],
   "source": []
  },
  {
   "cell_type": "code",
   "execution_count": null,
   "id": "82dca4d5-140b-43b7-bcc6-6cc97d40943f",
   "metadata": {},
   "outputs": [],
   "source": []
  },
  {
   "cell_type": "code",
   "execution_count": null,
   "id": "5e6d9f3c-6d5d-45a1-afe0-242b4f681488",
   "metadata": {},
   "outputs": [],
   "source": []
  },
  {
   "cell_type": "code",
   "execution_count": null,
   "id": "5ce04a7e-9501-46a9-aca3-ba36c4cedcfe",
   "metadata": {},
   "outputs": [],
   "source": []
  },
  {
   "cell_type": "code",
   "execution_count": null,
   "id": "bc880de2-ae52-49c9-987b-147794750128",
   "metadata": {},
   "outputs": [],
   "source": []
  },
  {
   "cell_type": "code",
   "execution_count": null,
   "id": "8e78b995-cbaf-4838-9674-2102b17ed481",
   "metadata": {},
   "outputs": [],
   "source": []
  },
  {
   "cell_type": "code",
   "execution_count": null,
   "id": "3da29ba7-3e7a-4d4b-bf20-72f6694fe12d",
   "metadata": {},
   "outputs": [],
   "source": []
  },
  {
   "cell_type": "code",
   "execution_count": null,
   "id": "e0222d66-fc57-4d25-ab14-3c7c6f1f830a",
   "metadata": {},
   "outputs": [],
   "source": []
  },
  {
   "cell_type": "code",
   "execution_count": null,
   "id": "3c1ae030-64b7-4684-9854-1a959b0f1228",
   "metadata": {},
   "outputs": [],
   "source": []
  },
  {
   "cell_type": "code",
   "execution_count": null,
   "id": "157f04cb-740e-49a2-9003-4827ee7ac1b2",
   "metadata": {},
   "outputs": [],
   "source": []
  },
  {
   "cell_type": "code",
   "execution_count": null,
   "id": "ed7c2ad8-2327-4f4a-9f96-b23b387f8f55",
   "metadata": {},
   "outputs": [],
   "source": []
  },
  {
   "cell_type": "code",
   "execution_count": null,
   "id": "6c509c26-6f65-4f32-8d19-f7a4e6b71c37",
   "metadata": {},
   "outputs": [],
   "source": []
  },
  {
   "cell_type": "code",
   "execution_count": null,
   "id": "3bbbb100-8268-4e78-b859-ffa32eea4418",
   "metadata": {},
   "outputs": [],
   "source": []
  },
  {
   "cell_type": "code",
   "execution_count": null,
   "id": "7fe4c500-cc93-443c-9404-e07bcc96dcee",
   "metadata": {},
   "outputs": [],
   "source": []
  }
 ],
 "metadata": {
  "kernelspec": {
   "display_name": "Python 3 (ipykernel)",
   "language": "python",
   "name": "python3"
  },
  "language_info": {
   "codemirror_mode": {
    "name": "ipython",
    "version": 3
   },
   "file_extension": ".py",
   "mimetype": "text/x-python",
   "name": "python",
   "nbconvert_exporter": "python",
   "pygments_lexer": "ipython3",
   "version": "3.12.10"
  }
 },
 "nbformat": 4,
 "nbformat_minor": 5
}
